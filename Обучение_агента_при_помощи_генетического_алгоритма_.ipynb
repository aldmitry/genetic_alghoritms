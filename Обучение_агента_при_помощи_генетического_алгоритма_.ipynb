{
  "nbformat": 4,
  "nbformat_minor": 0,
  "metadata": {
    "colab": {
      "name": "Обучение агента при помощи генетического алгоритма.",
      "provenance": [],
      "collapsed_sections": []
    },
    "kernelspec": {
      "name": "python3",
      "display_name": "Python 3"
    },
    "accelerator": "GPU"
  },
  "cells": [
    {
      "cell_type": "markdown",
      "metadata": {
        "id": "yUwj_Vsa_Dxi"
      },
      "source": [
        "# В качестве агента была взята игра с openAI\n"
      ]
    },
    {
      "cell_type": "code",
      "metadata": {
        "id": "gWskDE2c9WoN",
        "colab": {
          "base_uri": "https://localhost:8080/"
        },
        "outputId": "a5754cee-e5d2-4bea-d3e5-00336f5a5e85"
      },
      "source": [
        "# Будем обращаться к линукс-ядру напрямую с помощью команд на \"!\"\n",
        "# Будем устанавливать окружение из пакета Stable Baseline для OpenAI (для того, чтобы можно было использовать движок в колабе)\n",
        "# Код, представленный в документации разработчика\n",
        "!apt install swig cmake libopenmpi-dev zlib1g-dev # cmake - сборка - аналог GNU Make, но с другим синтаксисом, libopenmpi-dev распределённые вычисления в кластере для дебиан, zlib1g-dev - сжатие траффика\n",
        "!pip install stable-baselines==2.5.1 box2d box2d-kengz # устанавливаем непосредственно сам stable baseline и движок box2d\n",
        "\n",
        "# если убрать \" > /dev/null 2>&1\" то работа сервера будет выведена на экран, а этой командой перемещаем все в фоновый режим\n",
        "!pip install gym pyvirtualdisplay > /dev/null 2>&1 # установка пакета для рендера видео\n",
        "!pip install xvfbwrapper # установка обертки для пакета, который позволит воспроизводить видео в ячейке колаба  \n",
        "!apt-get update # обновляем все пакеты до новейшей версии, чтобы все пакеты \"подружились\"\n",
        "!sudo apt-get install xvfb # установка удаленного сервера, благодаря которому видео будет воспроизводиться в ячейке колаба\n",
        "!apt-get install xdpyinfo # пакет для вывода процессов, происходящих на сервере"
      ],
      "execution_count": null,
      "outputs": [
        {
          "output_type": "stream",
          "text": [
            "Reading package lists... Done\n",
            "Building dependency tree       \n",
            "Reading state information... Done\n",
            "zlib1g-dev is already the newest version (1:1.2.11.dfsg-0ubuntu2).\n",
            "zlib1g-dev set to manually installed.\n",
            "libopenmpi-dev is already the newest version (2.1.1-8).\n",
            "cmake is already the newest version (3.10.2-1ubuntu2.18.04.1).\n",
            "The following additional packages will be installed:\n",
            "  swig3.0\n",
            "Suggested packages:\n",
            "  swig-doc swig-examples swig3.0-examples swig3.0-doc\n",
            "The following NEW packages will be installed:\n",
            "  swig swig3.0\n",
            "0 upgraded, 2 newly installed, 0 to remove and 30 not upgraded.\n",
            "Need to get 1,100 kB of archives.\n",
            "After this operation, 5,822 kB of additional disk space will be used.\n",
            "Get:1 http://archive.ubuntu.com/ubuntu bionic/universe amd64 swig3.0 amd64 3.0.12-1 [1,094 kB]\n",
            "Get:2 http://archive.ubuntu.com/ubuntu bionic/universe amd64 swig amd64 3.0.12-1 [6,460 B]\n",
            "Fetched 1,100 kB in 1s (1,515 kB/s)\n",
            "Selecting previously unselected package swig3.0.\n",
            "(Reading database ... 160980 files and directories currently installed.)\n",
            "Preparing to unpack .../swig3.0_3.0.12-1_amd64.deb ...\n",
            "Unpacking swig3.0 (3.0.12-1) ...\n",
            "Selecting previously unselected package swig.\n",
            "Preparing to unpack .../swig_3.0.12-1_amd64.deb ...\n",
            "Unpacking swig (3.0.12-1) ...\n",
            "Setting up swig3.0 (3.0.12-1) ...\n",
            "Setting up swig (3.0.12-1) ...\n",
            "Processing triggers for man-db (2.8.3-2ubuntu0.1) ...\n",
            "Collecting stable-baselines==2.5.1\n",
            "\u001b[?25l  Downloading https://files.pythonhosted.org/packages/ee/fa/188806886dae4f217b005ae4d191a226e585938a81479f32868a1fd3e6f2/stable_baselines-2.5.1-py3-none-any.whl (240kB)\n",
            "\u001b[K     |████████████████████████████████| 245kB 13.1MB/s \n",
            "\u001b[?25hCollecting box2d\n",
            "\u001b[?25l  Downloading https://files.pythonhosted.org/packages/22/1b/ce95bb5d1807d4d85af8d0c90050add1a77124459f8097791f0c39136d53/Box2D-2.3.10-cp37-cp37m-manylinux1_x86_64.whl (1.3MB)\n",
            "\u001b[K     |████████████████████████████████| 1.3MB 37.5MB/s \n",
            "\u001b[?25hCollecting box2d-kengz\n",
            "\u001b[?25l  Downloading https://files.pythonhosted.org/packages/81/20/51d6c0c87f7642efb709c518fb0ca8e5eab068259588552c41da5926ae27/Box2D-kengz-2.3.3.tar.gz (425kB)\n",
            "\u001b[K     |████████████████████████████████| 430kB 56.0MB/s \n",
            "\u001b[?25hRequirement already satisfied: numpy in /usr/local/lib/python3.7/dist-packages (from stable-baselines==2.5.1) (1.19.5)\n",
            "Requirement already satisfied: scipy in /usr/local/lib/python3.7/dist-packages (from stable-baselines==2.5.1) (1.4.1)\n",
            "Requirement already satisfied: matplotlib in /usr/local/lib/python3.7/dist-packages (from stable-baselines==2.5.1) (3.2.2)\n",
            "Requirement already satisfied: tqdm in /usr/local/lib/python3.7/dist-packages (from stable-baselines==2.5.1) (4.41.1)\n",
            "Requirement already satisfied: click in /usr/local/lib/python3.7/dist-packages (from stable-baselines==2.5.1) (7.1.2)\n",
            "Requirement already satisfied: pandas in /usr/local/lib/python3.7/dist-packages (from stable-baselines==2.5.1) (1.1.5)\n",
            "Requirement already satisfied: joblib in /usr/local/lib/python3.7/dist-packages (from stable-baselines==2.5.1) (1.0.1)\n",
            "Requirement already satisfied: seaborn in /usr/local/lib/python3.7/dist-packages (from stable-baselines==2.5.1) (0.11.1)\n",
            "Requirement already satisfied: dill in /usr/local/lib/python3.7/dist-packages (from stable-baselines==2.5.1) (0.3.3)\n",
            "Requirement already satisfied: glob2 in /usr/local/lib/python3.7/dist-packages (from stable-baselines==2.5.1) (0.7)\n",
            "Requirement already satisfied: cloudpickle>=0.5.5 in /usr/local/lib/python3.7/dist-packages (from stable-baselines==2.5.1) (1.3.0)\n",
            "Requirement already satisfied: opencv-python in /usr/local/lib/python3.7/dist-packages (from stable-baselines==2.5.1) (4.1.2.30)\n",
            "Collecting zmq\n",
            "  Downloading https://files.pythonhosted.org/packages/6e/78/833b2808793c1619835edb1a4e17a023d5d625f4f97ff25ffff986d1f472/zmq-0.0.0.tar.gz\n",
            "Collecting mpi4py\n",
            "\u001b[?25l  Downloading https://files.pythonhosted.org/packages/ec/8f/bbd8de5ba566dd77e408d8136e2bab7fdf2b97ce06cab830ba8b50a2f588/mpi4py-3.0.3.tar.gz (1.4MB)\n",
            "\u001b[K     |████████████████████████████████| 1.4MB 49.4MB/s \n",
            "\u001b[?25hRequirement already satisfied: gym[atari,classic_control]>=0.10.9 in /usr/local/lib/python3.7/dist-packages (from stable-baselines==2.5.1) (0.17.3)\n",
            "Requirement already satisfied: kiwisolver>=1.0.1 in /usr/local/lib/python3.7/dist-packages (from matplotlib->stable-baselines==2.5.1) (1.3.1)\n",
            "Requirement already satisfied: pyparsing!=2.0.4,!=2.1.2,!=2.1.6,>=2.0.1 in /usr/local/lib/python3.7/dist-packages (from matplotlib->stable-baselines==2.5.1) (2.4.7)\n",
            "Requirement already satisfied: python-dateutil>=2.1 in /usr/local/lib/python3.7/dist-packages (from matplotlib->stable-baselines==2.5.1) (2.8.1)\n",
            "Requirement already satisfied: cycler>=0.10 in /usr/local/lib/python3.7/dist-packages (from matplotlib->stable-baselines==2.5.1) (0.10.0)\n",
            "Requirement already satisfied: pytz>=2017.2 in /usr/local/lib/python3.7/dist-packages (from pandas->stable-baselines==2.5.1) (2018.9)\n",
            "Requirement already satisfied: pyzmq in /usr/local/lib/python3.7/dist-packages (from zmq->stable-baselines==2.5.1) (22.0.3)\n",
            "Requirement already satisfied: pyglet<=1.5.0,>=1.4.0 in /usr/local/lib/python3.7/dist-packages (from gym[atari,classic_control]>=0.10.9->stable-baselines==2.5.1) (1.5.0)\n",
            "Requirement already satisfied: Pillow; extra == \"atari\" in /usr/local/lib/python3.7/dist-packages (from gym[atari,classic_control]>=0.10.9->stable-baselines==2.5.1) (7.1.2)\n",
            "Requirement already satisfied: atari-py~=0.2.0; extra == \"atari\" in /usr/local/lib/python3.7/dist-packages (from gym[atari,classic_control]>=0.10.9->stable-baselines==2.5.1) (0.2.6)\n",
            "Requirement already satisfied: six>=1.5 in /usr/local/lib/python3.7/dist-packages (from python-dateutil>=2.1->matplotlib->stable-baselines==2.5.1) (1.15.0)\n",
            "Requirement already satisfied: future in /usr/local/lib/python3.7/dist-packages (from pyglet<=1.5.0,>=1.4.0->gym[atari,classic_control]>=0.10.9->stable-baselines==2.5.1) (0.16.0)\n",
            "Building wheels for collected packages: box2d-kengz, zmq, mpi4py\n",
            "  Building wheel for box2d-kengz (setup.py) ... \u001b[?25l\u001b[?25hdone\n",
            "  Created wheel for box2d-kengz: filename=Box2D_kengz-2.3.3-cp37-cp37m-linux_x86_64.whl size=2062572 sha256=1fdb1c24ab571bb304752320e3cce046084aa4d16338cf8534759a5f13d0eb09\n",
            "  Stored in directory: /root/.cache/pip/wheels/75/ae/e5/8bc678d262caad94659c199c540550e59d03dd3bd3684d4f1a\n",
            "  Building wheel for zmq (setup.py) ... \u001b[?25l\u001b[?25hdone\n",
            "  Created wheel for zmq: filename=zmq-0.0.0-cp37-none-any.whl size=1277 sha256=b008087e6341085900f670d2fc887bb6eff728dbf66530c378a1a8d00341f90d\n",
            "  Stored in directory: /root/.cache/pip/wheels/44/7a/7d/ac1d865766b06f9769ac1154bf31dbb5abb3b52ecfe278247a\n",
            "  Building wheel for mpi4py (setup.py) ... \u001b[?25l\u001b[?25hdone\n",
            "  Created wheel for mpi4py: filename=mpi4py-3.0.3-cp37-cp37m-linux_x86_64.whl size=2065195 sha256=b9b7c095484531bf4c635a5b722a96bb938bedd344ac1f11b41b6aa089aed96e\n",
            "  Stored in directory: /root/.cache/pip/wheels/18/e0/86/2b713dd512199096012ceca61429e12b960888de59818871d6\n",
            "Successfully built box2d-kengz zmq mpi4py\n",
            "Installing collected packages: zmq, mpi4py, stable-baselines, box2d, box2d-kengz\n",
            "Successfully installed box2d-2.3.10 box2d-kengz-2.3.3 mpi4py-3.0.3 stable-baselines-2.5.1 zmq-0.0.0\n",
            "Collecting xvfbwrapper\n",
            "  Downloading https://files.pythonhosted.org/packages/57/b6/4920eabda9b49630dea58745e79f9919aba6408d460afe758bf6e9b21a04/xvfbwrapper-0.2.9.tar.gz\n",
            "Building wheels for collected packages: xvfbwrapper\n",
            "  Building wheel for xvfbwrapper (setup.py) ... \u001b[?25l\u001b[?25hdone\n",
            "  Created wheel for xvfbwrapper: filename=xvfbwrapper-0.2.9-cp37-none-any.whl size=5009 sha256=afb33ee95712fb5cb34f565c8544b50bb3e04090210079e2d95d8fb44fd804ce\n",
            "  Stored in directory: /root/.cache/pip/wheels/10/f2/61/cacfaf84b352c223761ea8d19616e3b5ac5c27364da72863f0\n",
            "Successfully built xvfbwrapper\n",
            "Installing collected packages: xvfbwrapper\n",
            "Successfully installed xvfbwrapper-0.2.9\n",
            "Get:1 https://cloud.r-project.org/bin/linux/ubuntu bionic-cran40/ InRelease [3,622 B]\n",
            "Ign:2 https://developer.download.nvidia.com/compute/cuda/repos/ubuntu1804/x86_64  InRelease\n",
            "Get:3 http://ppa.launchpad.net/c2d4u.team/c2d4u4.0+/ubuntu bionic InRelease [15.9 kB]\n",
            "Get:4 http://security.ubuntu.com/ubuntu bionic-security InRelease [88.7 kB]\n",
            "Hit:5 http://archive.ubuntu.com/ubuntu bionic InRelease\n",
            "Ign:6 https://developer.download.nvidia.com/compute/machine-learning/repos/ubuntu1804/x86_64  InRelease\n",
            "Hit:7 https://developer.download.nvidia.com/compute/cuda/repos/ubuntu1804/x86_64  Release\n",
            "Hit:8 https://developer.download.nvidia.com/compute/machine-learning/repos/ubuntu1804/x86_64  Release\n",
            "Get:9 https://cloud.r-project.org/bin/linux/ubuntu bionic-cran40/ Packages [52.7 kB]\n",
            "Get:10 http://archive.ubuntu.com/ubuntu bionic-updates InRelease [88.7 kB]\n",
            "Hit:11 http://ppa.launchpad.net/cran/libgit2/ubuntu bionic InRelease\n",
            "Get:12 http://archive.ubuntu.com/ubuntu bionic-backports InRelease [74.6 kB]\n",
            "Get:13 http://ppa.launchpad.net/deadsnakes/ppa/ubuntu bionic InRelease [15.9 kB]\n",
            "Hit:16 http://ppa.launchpad.net/graphics-drivers/ppa/ubuntu bionic InRelease\n",
            "Get:17 http://ppa.launchpad.net/c2d4u.team/c2d4u4.0+/ubuntu bionic/main Sources [1,749 kB]\n",
            "Get:18 http://security.ubuntu.com/ubuntu bionic-security/universe amd64 Packages [1,402 kB]\n",
            "Get:19 http://archive.ubuntu.com/ubuntu bionic-updates/universe amd64 Packages [2,172 kB]\n",
            "Get:20 http://security.ubuntu.com/ubuntu bionic-security/main amd64 Packages [2,045 kB]\n",
            "Get:21 http://ppa.launchpad.net/c2d4u.team/c2d4u4.0+/ubuntu bionic/main amd64 Packages [895 kB]\n",
            "Get:22 http://archive.ubuntu.com/ubuntu bionic-updates/main amd64 Packages [2,476 kB]\n",
            "Get:23 http://ppa.launchpad.net/deadsnakes/ppa/ubuntu bionic/main amd64 Packages [39.5 kB]\n",
            "Fetched 11.1 MB in 2s (4,514 kB/s)\n",
            "Reading package lists... Done\n",
            "Reading package lists... Done\n",
            "Building dependency tree       \n",
            "Reading state information... Done\n",
            "The following NEW packages will be installed:\n",
            "  xvfb\n",
            "0 upgraded, 1 newly installed, 0 to remove and 51 not upgraded.\n",
            "Need to get 784 kB of archives.\n",
            "After this operation, 2,270 kB of additional disk space will be used.\n",
            "Get:1 http://archive.ubuntu.com/ubuntu bionic-updates/universe amd64 xvfb amd64 2:1.19.6-1ubuntu4.8 [784 kB]\n",
            "Fetched 784 kB in 1s (1,288 kB/s)\n",
            "debconf: unable to initialize frontend: Dialog\n",
            "debconf: (No usable dialog-like program is installed, so the dialog based frontend cannot be used. at /usr/share/perl5/Debconf/FrontEnd/Dialog.pm line 76, <> line 1.)\n",
            "debconf: falling back to frontend: Readline\n",
            "debconf: unable to initialize frontend: Readline\n",
            "debconf: (This frontend requires a controlling tty.)\n",
            "debconf: falling back to frontend: Teletype\n",
            "dpkg-preconfigure: unable to re-open stdin: \n",
            "Selecting previously unselected package xvfb.\n",
            "(Reading database ... 161771 files and directories currently installed.)\n",
            "Preparing to unpack .../xvfb_2%3a1.19.6-1ubuntu4.8_amd64.deb ...\n",
            "Unpacking xvfb (2:1.19.6-1ubuntu4.8) ...\n",
            "Setting up xvfb (2:1.19.6-1ubuntu4.8) ...\n",
            "Processing triggers for man-db (2.8.3-2ubuntu0.1) ...\n",
            "Reading package lists... Done\n",
            "Building dependency tree       \n",
            "Reading state information... Done\n",
            "E: Unable to locate package xdpyinfo\n"
          ],
          "name": "stdout"
        }
      ]
    },
    {
      "cell_type": "markdown",
      "metadata": {
        "id": "APXSx7hg19TH"
      },
      "source": [
        "# Импорт библиотек\n",
        "\n"
      ]
    },
    {
      "cell_type": "code",
      "metadata": {
        "id": "pdb2JwZy4jGj"
      },
      "source": [
        "import gym # здесь лежат все модели для \n",
        "from gym import logger as gymlogger # загрузим библиотеку для изменения параметра вывода ошибок\n",
        "from gym.wrappers import Monitor # библиотека для обертки видео из хранилища в ячейку\n",
        "gymlogger.set_level(40) # для правильного отображения ошибок\n",
        "import numpy as np # библиотека массивов numpy\n",
        "import random # библиотека для генерации случайных значений\n",
        "import matplotlib # библиотека для визуализации процессов\n",
        "import matplotlib.pyplot as plt # библиотека для построения графика\n",
        "%matplotlib inline\n",
        "import glob # расширение для использования Unix обозначений при задании пути к файлу\n",
        "import io # библиотека для работы с потоковыми данными\n",
        "import base64 # расширение для преобразования в формат base64 (универсальный формат хранения сырых изображений в виде набора электрических сигналов)\n",
        "from IPython.display import HTML # библиотека для кодирования в код HTML\n",
        "import time # библиотека для расчета времени обучения\n",
        "\n",
        "from IPython import display as ipythondisplay # для работы с \"сырым\" форматом (набор сигналов, а не пиксели)\n",
        "from pyvirtualdisplay import Display # для создания окна дисплея\n"
      ],
      "execution_count": null,
      "outputs": []
    },
    {
      "cell_type": "code",
      "metadata": {
        "id": "nQEtc28G4niA",
        "colab": {
          "base_uri": "https://localhost:8080/"
        },
        "outputId": "944a1751-225b-4520-a581-7b269e83910c"
      },
      "source": [
        "# Создаем объект дисплей, таким образом, симуляцию можно будет наблюдать в колабе\n",
        "display = Display(visible=0, size=(1400, 900))\n",
        "display.start()"
      ],
      "execution_count": null,
      "outputs": [
        {
          "output_type": "execute_result",
          "data": {
            "text/plain": [
              "<pyvirtualdisplay.display.Display at 0x7f3223d04110>"
            ]
          },
          "metadata": {
            "tags": []
          },
          "execution_count": 3
        }
      ]
    },
    {
      "cell_type": "code",
      "metadata": {
        "id": "G9UWeToN4r7D"
      },
      "source": [
        "'''\n",
        "\n",
        "Функция, позволяющая записывать видео того,\n",
        "что происходит в окружении и отображать это в колабе\n",
        "\n",
        "'''\n",
        "\n",
        "def show_video():\n",
        "  mp4list = glob.glob('video/*.mp4')\n",
        "  if len(mp4list) > 0:\n",
        "    mp4 = mp4list[0]\n",
        "    video = io.open(mp4, 'r+b').read()\n",
        "    encoded = base64.b64encode(video)\n",
        "    ipythondisplay.display(HTML(data='''<video alt=\"test\" autoplay \n",
        "                loop controls style=\"height: 400px;\">\n",
        "                <source src=\"data:video/mp4;base64,{0}\" type=\"video/mp4\" />\n",
        "             </video>'''.format(encoded.decode('ascii'))))\n",
        "  else: \n",
        "    print(\"Could not find video\")\n",
        "    \n",
        "\n",
        "def wrap_env(env):\n",
        "  env = Monitor(env, './video', force=True)\n",
        "  return env"
      ],
      "execution_count": null,
      "outputs": []
    },
    {
      "cell_type": "markdown",
      "metadata": {
        "id": "FtY8FhliLsGm"
      },
      "source": [
        "#https://github.com/openai/gym/wiki/CartPole-v0\n"
      ]
    },
    {
      "cell_type": "code",
      "metadata": {
        "id": "pUWGZp3i9wyf"
      },
      "source": [
        "# Запускаем среду\n",
        "env = gym.make('CartPole-v1')"
      ],
      "execution_count": null,
      "outputs": []
    },
    {
      "cell_type": "markdown",
      "metadata": {
        "id": "65o_NbN6sdCH"
      },
      "source": [
        "https://github.com/openai/gym/wiki/CartPole-v0"
      ]
    },
    {
      "cell_type": "code",
      "metadata": {
        "id": "q0kU3oKiwauC"
      },
      "source": [
        "numBots = 100\n",
        "popul = [] # здесь будет лежать популяция\n",
        "\n",
        "for i in range(numBots):  \n",
        "  bot = np.random.random((4,2))\n",
        "  popul.append(bot)"
      ],
      "execution_count": null,
      "outputs": []
    },
    {
      "cell_type": "code",
      "metadata": {
        "id": "UoinzefV9bCm",
        "colab": {
          "base_uri": "https://localhost:8080/",
          "height": 421
        },
        "outputId": "107e0f7d-794f-4456-d1a4-3f6d21d01ae2"
      },
      "source": [
        "\n",
        "env = wrap_env(env) # оборачиваем наше окружения для записи видео\n",
        "#env.seed(0) # симуляция одного и того же окружения\n",
        "observation = env.reset() # обнуляем вектор наблюдения\n",
        "i=0\n",
        "action = 1\n",
        "while True:\n",
        "\n",
        "    env.render() # Рендер окружения\n",
        "    # В качестве действия будем подавать значения нашего лучшего бота\n",
        "    observation,reward,done,_ = env.step(action) # остлеживаем все параметры для подсчета функции значения\n",
        "    result = np.dot(observation,popul[np.random.randint(0, numBots-1)])\n",
        "    action = np.argmax(result)\n",
        "    if done: \n",
        "      break;\n",
        "            \n",
        "env.close()\n",
        "show_video()"
      ],
      "execution_count": null,
      "outputs": [
        {
          "output_type": "display_data",
          "data": {
            "text/html": [
              "<video alt=\"test\" autoplay \n",
              "                loop controls style=\"height: 400px;\">\n",
              "                <source src=\"data:video/mp4;base64,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\" type=\"video/mp4\" />\n",
              "             </video>"
            ],
            "text/plain": [
              "<IPython.core.display.HTML object>"
            ]
          },
          "metadata": {
            "tags": []
          }
        }
      ]
    },
    {
      "cell_type": "markdown",
      "metadata": {
        "id": "qerTVAQ55Jrr"
      },
      "source": [
        "# Генетические алгоритмы\n",
        "\n"
      ]
    },
    {
      "cell_type": "code",
      "metadata": {
        "id": "WdJ-pUVbxTe5"
      },
      "source": [
        "'''\n",
        "    Функция получения выжившей популяции\n",
        "        Входные параметры:\n",
        "        - popul - наша популяция\n",
        "        - val - текущие значения\n",
        "        - nsurv - количество выживших\n",
        "        - reverse - указываем требуемую операцию поиска результата: максимизация или минимизация\n",
        "'''\n",
        "def getSurvPopul(\n",
        "        popul,\n",
        "        val,\n",
        "        nsurv,\n",
        "        reverse\n",
        "        ):\n",
        "    newpopul = [] # Двумерный массив для новой популяции\n",
        "\n",
        "    sval= sorted(val, reverse=reverse) # Сортируем зачения в val в зависимости от параметра reverse\n",
        "    for i in range(nsurv): # Проходимся по циклу nsurv-раз (в итоге в newpopul запишется nsurv-лучших показателей)\n",
        "        index = val.index(sval[i]) # Получаем индекс i-того элемента sval в исходном массиве val\n",
        "        newpopul.append(popul[index]) # В новую папуляцию добавляем элемент из текущей популяции с найденным индексом\n",
        "    return newpopul, sval # Возвращаем новую популяцию (из nsurv элементов) и сортированный список\n",
        "\n",
        "'''\n",
        "    Функция получения родителей\n",
        "        Входные параметры:\n",
        "        - curr_popul - текущая популяция\n",
        "        - nsurv - количество выживших\n",
        "'''\n",
        "def getParents(\n",
        "        curr_popul,\n",
        "        nsurv\n",
        "        ):   \n",
        "    indexp1 = random.randint(0, nsurv - 1) # Случайный индекс первого родителя в диапазоне от 0 до nsurv - 1\n",
        "    indexp2 = random.randint(0, nsurv - 1) # Случайный индекс второго родителя в диапазоне от 0 до nsurv - 1    \n",
        "    botp1 = curr_popul[indexp1] # Получаем первого бота-родителя по indexp1\n",
        "    botp2 = curr_popul[indexp2] # Получаем второго бота-родителя по indexp2 \n",
        "   \n",
        "    return botp1,botp2 # Возвращаем обоих полученных ботов\n",
        "\n",
        "'''\n",
        "    Функция смешивания (кроссинговера) двух родителей\n",
        "        Входные параметры:\n",
        "        - botp1 - первый бот-родитель\n",
        "        - botp2 - второй бот-родитель\n",
        "        - j - номер компонента бота\n",
        "'''\n",
        "\n",
        "def crossPointFrom2Parents(\n",
        "        botp1,\n",
        "        botp2 ,\n",
        "        mut\n",
        "        ):\n",
        "    \n",
        "    for i in range(botp1.shape[0]):\n",
        "      for j in range(botp2.shape[1]):\n",
        "\n",
        "        pindex = np.random.random() # Получаем случайное число в диапазоне от 0 до 1\n",
        "    \n",
        "        #Если pindex меньше 0.5, то берем значения от первого бота, иначе от второго\n",
        "        if pindex < 0.5:\n",
        "          botp1[i,j] = botp2[i,j]\n",
        "        if np.random.random() < mut:\n",
        "          botp1[i,j] += (np.random.random()*2-1)/10\n",
        "            \n",
        "    return botp1 # Возвращаем значние бота\n",
        "\n",
        "    \n",
        "\n",
        "'''\n",
        "    Функция расчета вознаграждения за эпизод\n",
        "        Входные параметры:\n",
        "        - popul - популяция ботов\n",
        "'''\n",
        "\n",
        "def softmax(x):\n",
        "    \"\"\"Compute softmax values for each sets of scores in x.\"\"\"\n",
        "    e_x = np.exp(x - np.max(x))\n",
        "    return e_x / e_x.sum()\n",
        "\n",
        "def countValue(\n",
        "    popul\n",
        "    ):\n",
        "  \n",
        "  action=1  # генерируем первое  действие случайным из пространства действий\n",
        "                                     # 1 - ничего не делать \n",
        "                                     # 0 - push left\n",
        "                                     # 2 - push right\n",
        "                                     \n",
        "\n",
        "  reward_list=[] # здесь будет сумма вознаграждений для каждого эпизода\n",
        "\n",
        "  for bot in popul: # проходимся по каждому боту в популяции\n",
        "    #env.seed(0)  # При инициализации среда генерируется случайным образом каждый раз новая,\n",
        "                 # поэтому ограничим интервал генерации - т.е. будем использовать только одну конкретную среду\n",
        "    env.reset() # И обновлять окружение\n",
        "    i=0 \n",
        "    tmp=0\n",
        "    done=False\n",
        "    while done!=True:\n",
        "      observation,reward,done,_ = env.step(action) # остлеживаем все параметры для подсчета функции значения\n",
        "      result = np.dot(observation,bot) # матрично перемножаем бота и вектор наблюдения для предсказания следующего движения\n",
        "      # prop_list = softmax(result)\n",
        "      # if np.random.random()<0.5:\n",
        "      #     action = np.random.randint(1,3)\n",
        "      # else:\n",
        "      #   action = np.random.choice([0,1,2], p=prop_list)\n",
        "      \n",
        "      action = np.argmax(result)\n",
        "      #print(action)\n",
        "      tmp+=reward\n",
        "    reward_list.append(tmp) # Функция, по которой будет вычисляться \"успех текущей симуляции\"\n",
        "    \n",
        "  return reward_list  "
      ],
      "execution_count": null,
      "outputs": []
    },
    {
      "cell_type": "code",
      "metadata": {
        "id": "rSbB_fjL66FN",
        "colab": {
          "base_uri": "https://localhost:8080/",
          "height": 1000
        },
        "outputId": "20c0a029-6d21-4b41-ea51-9e9ee57bc450"
      },
      "source": [
        "total=[] # Для построения графика\n",
        "n = 100 # популяция\n",
        "nsurv = 20 # количество выживших\n",
        "nnew = n-nsurv # количество новых\n",
        "epohs = 100 # количество эпох\n",
        "mut = 0.5 # коэфициент мутаций\n",
        "curr_time = time.time()\n",
        "\n",
        "for it in range(epohs): # создали список списков всех значений по эпохам\n",
        "  val = countValue(popul) # считаем успех каждого из ботов\n",
        "  newpopul, sval = getSurvPopul(popul, val, nsurv, 1) # получили популяцию выживших, нас интересует бот с максимальным успехом, поэтому reverse = 1\n",
        "  print(it, time.time() - curr_time, \" \", sval[0:3]) # Выводим время на операцию, среднее значение и 20 лучших ботов  \n",
        "  total.append(sval[0]) # заносим самого лучшего бота в список для построения графика эволюции\n",
        "  curr_time = time.time() # Обновляем текущее время\n",
        "\n",
        "  # проходимся по новой популяции\n",
        "  for k in range(nnew):\n",
        "\n",
        "    # вытаскиваем новых родителей\n",
        "    botp1, botp2 = getParents(newpopul, nsurv) \n",
        "        \n",
        "    newbot = crossPointFrom2Parents(botp1, botp2,mut) # скрещиваем\n",
        "     \n",
        "    newpopul.append(newbot) # добавляем бота\n",
        "  popul = newpopul # вывести список на эпоху\n",
        "  popul = np.array(popul) # для того, чтобы можно было легко вытащить индексы условием, преобразуем в numpy массив\n",
        "plt.plot(total)\n",
        "print(np.mean(total)) "
      ],
      "execution_count": null,
      "outputs": [
        {
          "output_type": "stream",
          "text": [
            "0 0.08156347274780273   [500.0, 327.0, 306.0]\n",
            "1 0.33614587783813477   [500.0, 500.0, 500.0]\n",
            "2 0.06726789474487305   [83.0, 79.0, 77.0]\n",
            "3 0.04984927177429199   [111.0, 110.0, 105.0]\n",
            "4 0.06485319137573242   [146.0, 141.0, 128.0]\n",
            "5 0.20520472526550293   [500.0, 489.0, 456.0]\n",
            "6 0.24524521827697754   [500.0, 500.0, 500.0]\n",
            "7 0.3283369541168213   [500.0, 500.0, 500.0]\n",
            "8 0.2288837432861328   [500.0, 478.0, 470.0]\n",
            "9 0.4769728183746338   [500.0, 500.0, 500.0]\n",
            "10 0.7486958503723145   [500.0, 500.0, 500.0]\n",
            "11 0.6507701873779297   [500.0, 500.0, 500.0]\n",
            "12 0.07442593574523926   [146.0, 83.0, 77.0]\n",
            "13 0.4809296131134033   [500.0, 500.0, 500.0]\n",
            "14 0.019643306732177734   [13.0, 13.0, 13.0]\n",
            "15 0.01769256591796875   [13.0, 12.0, 11.0]\n",
            "16 0.01853775978088379   [13.0, 13.0, 12.0]\n",
            "17 0.023576974868774414   [27.0, 27.0, 27.0]\n",
            "18 0.09493446350097656   [163.0, 158.0, 156.0]\n",
            "19 0.19891047477722168   [392.0, 295.0, 269.0]\n",
            "20 0.19702577590942383   [287.0, 262.0, 236.0]\n",
            "21 0.28308749198913574   [436.0, 420.0, 362.0]\n",
            "22 0.24830079078674316   [500.0, 500.0, 500.0]\n",
            "23 0.3773384094238281   [500.0, 500.0, 500.0]\n",
            "24 0.38581061363220215   [500.0, 500.0, 500.0]\n",
            "25 0.5645220279693604   [500.0, 500.0, 500.0]\n",
            "26 0.7944185733795166   [500.0, 500.0, 500.0]\n",
            "27 0.4348478317260742   [500.0, 500.0, 490.0]\n",
            "28 0.42390990257263184   [500.0, 500.0, 500.0]\n",
            "29 0.3884592056274414   [500.0, 500.0, 500.0]\n",
            "30 0.4655797481536865   [500.0, 500.0, 500.0]\n",
            "31 0.5301172733306885   [500.0, 500.0, 500.0]\n",
            "32 0.710019588470459   [500.0, 500.0, 500.0]\n",
            "33 0.7384324073791504   [500.0, 500.0, 500.0]\n",
            "34 0.25625061988830566   [387.0, 309.0, 302.0]\n",
            "35 0.2618114948272705   [401.0, 311.0, 285.0]\n",
            "36 0.30205249786376953   [500.0, 500.0, 500.0]\n",
            "37 0.3840036392211914   [500.0, 500.0, 500.0]\n",
            "38 0.43985915184020996   [500.0, 500.0, 500.0]\n",
            "39 0.6416409015655518   [500.0, 500.0, 500.0]\n",
            "40 0.45625853538513184   [500.0, 500.0, 500.0]\n",
            "41 0.5305278301239014   [500.0, 500.0, 500.0]\n",
            "42 0.5859818458557129   [500.0, 500.0, 500.0]\n",
            "43 0.7551577091217041   [500.0, 500.0, 500.0]\n",
            "44 0.648625373840332   [500.0, 500.0, 500.0]\n",
            "45 0.017824888229370117   [11.0, 11.0, 11.0]\n",
            "46 0.017218828201293945   [11.0, 11.0, 11.0]\n",
            "47 0.0171051025390625   [11.0, 11.0, 11.0]\n",
            "48 0.6544060707092285   [500.0, 500.0, 500.0]\n",
            "49 0.021173954010009766   [11.0, 11.0, 11.0]\n",
            "50 0.018355369567871094   [11.0, 11.0, 11.0]\n",
            "51 0.017418861389160156   [11.0, 11.0, 11.0]\n",
            "52 0.017345905303955078   [11.0, 11.0, 11.0]\n",
            "53 0.017215967178344727   [11.0, 11.0, 11.0]\n",
            "54 0.01744675636291504   [11.0, 11.0, 11.0]\n",
            "55 0.01714015007019043   [11.0, 11.0, 11.0]\n",
            "56 0.017618179321289062   [11.0, 11.0, 11.0]\n",
            "57 0.017567873001098633   [11.0, 11.0, 10.0]\n",
            "58 0.01731133460998535   [11.0, 11.0, 10.0]\n",
            "59 0.017389297485351562   [11.0, 11.0, 10.0]\n",
            "60 0.6433029174804688   [500.0, 500.0, 500.0]\n",
            "61 0.7350912094116211   [500.0, 500.0, 500.0]\n",
            "62 0.7415978908538818   [500.0, 500.0, 500.0]\n",
            "63 0.7453477382659912   [500.0, 500.0, 500.0]\n",
            "64 0.7821903228759766   [500.0, 500.0, 500.0]\n",
            "65 0.7550086975097656   [500.0, 500.0, 500.0]\n",
            "66 0.7384214401245117   [500.0, 500.0, 500.0]\n",
            "67 0.741053581237793   [500.0, 500.0, 500.0]\n",
            "68 0.7444581985473633   [500.0, 500.0, 500.0]\n",
            "69 0.7354083061218262   [500.0, 500.0, 500.0]\n",
            "70 0.5845494270324707   [500.0, 500.0, 500.0]\n",
            "71 0.4147920608520508   [500.0, 500.0, 500.0]\n",
            "72 0.4949476718902588   [500.0, 500.0, 500.0]\n",
            "73 0.4895448684692383   [500.0, 500.0, 500.0]\n",
            "74 0.4457895755767822   [500.0, 500.0, 500.0]\n",
            "75 0.45418810844421387   [500.0, 500.0, 500.0]\n",
            "76 0.4738917350769043   [500.0, 500.0, 500.0]\n",
            "77 0.4321742057800293   [500.0, 500.0, 500.0]\n",
            "78 0.4735391139984131   [500.0, 500.0, 500.0]\n",
            "79 0.47216296195983887   [500.0, 500.0, 500.0]\n",
            "80 0.3963279724121094   [500.0, 500.0, 500.0]\n",
            "81 0.4252481460571289   [500.0, 500.0, 500.0]\n",
            "82 0.48689889907836914   [500.0, 500.0, 500.0]\n",
            "83 0.4813239574432373   [500.0, 500.0, 500.0]\n",
            "84 0.461655855178833   [500.0, 500.0, 500.0]\n",
            "85 0.4791295528411865   [500.0, 500.0, 500.0]\n",
            "86 0.4946634769439697   [500.0, 500.0, 500.0]\n",
            "87 0.509751558303833   [500.0, 500.0, 500.0]\n",
            "88 0.5558443069458008   [500.0, 500.0, 500.0]\n",
            "89 0.7560973167419434   [500.0, 500.0, 500.0]\n",
            "90 0.5873010158538818   [500.0, 500.0, 500.0]\n",
            "91 0.5582246780395508   [500.0, 500.0, 500.0]\n",
            "92 0.6589372158050537   [500.0, 500.0, 500.0]\n",
            "93 0.7704446315765381   [500.0, 500.0, 500.0]\n",
            "94 0.6090118885040283   [500.0, 500.0, 500.0]\n",
            "95 0.6147851943969727   [500.0, 500.0, 500.0]\n",
            "96 0.4697542190551758   [500.0, 500.0, 500.0]\n",
            "97 0.4772670269012451   [500.0, 500.0, 500.0]\n",
            "98 0.4891629219055176   [500.0, 500.0, 500.0]\n",
            "99 0.42803096771240234   [500.0, 500.0, 500.0]\n",
            "387.72\n"
          ],
          "name": "stdout"
        },
        {
          "output_type": "display_data",
          "data": {
            "image/png": "[encoded data removed]",
            "text/plain": [
              "<Figure size 432x288 with 1 Axes>"
            ]
          },
          "metadata": {
            "tags": [],
            "needs_background": "light"
          }
        }
      ]
    },
    {
      "cell_type": "code",
      "metadata": {
        "id": "cv5fXdxfjIeI"
      },
      "source": [
        "val = countValue(popul) # считаем успех каждого из ботов\n",
        "newpopul, sval = getSurvPopul(popul, val, nsurv, 1) # получили популяцию выживших, нас интересует бот с максимальным успехом, поэтому reverse = 1"
      ],
      "execution_count": null,
      "outputs": []
    },
    {
      "cell_type": "code",
      "metadata": {
        "id": "5_s-PLo4YHSQ",
        "colab": {
          "base_uri": "https://localhost:8080/",
          "height": 421
        },
        "outputId": "2feabe99-d6eb-4ea8-e0f8-e7a3b5cae80d"
      },
      "source": [
        "env = wrap_env(env) # оборачиваем наше окружения для записи видео\n",
        "observation = env.reset() # обнуляем вектор наблюдения\n",
        "i=0\n",
        "action = 1\n",
        "while True:\n",
        "\n",
        "    env.render() # Рендер окружения\n",
        "    # В качестве действия будем подавать значения нашего лучшего бота\n",
        "    observation,reward,done,_ = env.step(action) # остлеживаем все параметры для подсчета функции значения\n",
        "    result = np.dot(observation,newpopul[0])\n",
        "    action = np.argmax(result)\n",
        "    if done: \n",
        "      break;\n",
        "            \n",
        "env.close()\n",
        "show_video()"
      ],
      "execution_count": null,
      "outputs": [
        {
          "output_type": "display_data",
          "data": {
            "text/html": [
              "<video alt=\"test\" autoplay \n",
              "                loop controls style=\"height: 400px;\">\n",
              "                <source src=\"data:video/mp4;base64,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\" type=\"video/mp4\" />\n",
              "             </video>"
            ],
            "text/plain": [
              "<IPython.core.display.HTML object>"
            ]
          },
          "metadata": {
            "tags": []
          }
        }
      ]
    },
    {
      "cell_type": "code",
      "metadata": {
        "id": "6ok7jLCQ8_dF"
      },
      "source": [],
      "execution_count": null,
      "outputs": []
    }
  ]
}