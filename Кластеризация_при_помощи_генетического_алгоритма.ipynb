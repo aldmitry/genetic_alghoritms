{
  "nbformat": 4,
  "nbformat_minor": 0,
  "metadata": {
    "colab": {
      "name": "Кластеризация при помощи генетического алгоритма",
      "provenance": [],
      "collapsed_sections": []
    },
    "kernelspec": {
      "name": "python3",
      "display_name": "Python 3"
    }
  },
  "cells": [
    {
      "cell_type": "markdown",
      "metadata": {
        "id": "dhAs9s93-f32"
      },
      "source": [
        "# Решение задачи кластеризации генетическими алгоритмами"
      ]
    },
    {
      "cell_type": "code",
      "metadata": {
        "id": "qrfd6FzSLrE2"
      },
      "source": [
        "import random as random # Импортируем библиотку генерации случайных значений\n",
        "import numpy as np # Импортируем библиотеку numpy\n",
        "import matplotlib.pyplot as plt # Импортируем модуль pyplot библиотеки matplotlib\n",
        "import matplotlib.colors as colors # Импортируем модуль colors библиотеки matplotlib\n",
        "import pandas as pd\n",
        "import seaborn as sns\n",
        "sns.set_style('darkgrid')\n",
        "\n",
        "# Статический вывод графики (графики отображаются в той ячейке, в которой используется plt.show())\n",
        "%matplotlib inline "
      ],
      "execution_count": null,
      "outputs": []
    },
    {
      "cell_type": "code",
      "metadata": {
        "id": "WdJ-pUVbxTe5"
      },
      "source": [
        "'''\n",
        "    Функция получения выжившей популяции\n",
        "        Входные параметры:\n",
        "        - popul - наша популяция\n",
        "        - val - текущие значения\n",
        "        - nsurv - количество выживших\n",
        "        - reverse - указываем требуемую операцию поиска результата: максимизация или минимизация\n",
        "'''\n",
        "def getSurvPopul(\n",
        "        popul,\n",
        "        val,\n",
        "        nsurv,\n",
        "        reverse\n",
        "        ):\n",
        "    newpopul = [] # Двумерный массив для новой популяции\n",
        "    sval = sorted(val, reverse=reverse) # Сортируем зачения в val в зависимости от параметра reverse    \n",
        "    for i in range(nsurv): # Проходимся по циклу nsurv-раз (в итоге в newpopul запишется nsurv-лучших показателей)\n",
        "        index = val.index(sval[i]) # Получаем индекс i-того элемента sval в исходном массиве val\n",
        "        newpopul.append(popul[index]) # В новую папуляцию добавляем элемент из текущей популяции с найденным индексом\n",
        "    return newpopul, sval # Возвращаем новую популяцию (из nsurv элементов) и сортированный список\n",
        "\n",
        "'''\n",
        "    Функция получения родителей\n",
        "        Входные параметры:\n",
        "        - curr_popul - текущая популяция\n",
        "        - nsurv - количество выживших\n",
        "'''\n",
        "def getParents(\n",
        "        curr_popul,\n",
        "        nsurv\n",
        "        ):   \n",
        "    indexp1 = random.randint(0, nsurv - 1) # Случайный индекс первого родителя в диапазоне от 0 до nsurv - 1\n",
        "    indexp2 = random.randint(0, nsurv - 1) # Случайный индекс второго родителя в диапазоне от 0 до nsurv - 1    \n",
        "    botp1 = curr_popul[indexp1] # Получаем первого бота-родителя по indexp1\n",
        "    botp2 = curr_popul[indexp2] # Получаем второго бота-родителя по indexp2    \n",
        "    return botp1, botp2 # Возвращаем обоих полученных ботов\n",
        "\n",
        "'''\n",
        "    Функция смешивания (кроссинговера) двух родителей\n",
        "        Входные параметры:\n",
        "        - botp1 - первый бот-родитель\n",
        "        - botp2 - второй бот-родитель\n",
        "        - j - номер компонента бота\n",
        "'''\n",
        "def crossPointFrom2Parents(\n",
        "        botp1,\n",
        "        botp2, \n",
        "        j\n",
        "        ):\n",
        "    pindex = random.random() # Получаем случайное число в диапазоне от 0 до 1\n",
        "    \n",
        "    # Если pindex меньше 0.5, то берем значения от первого бота, иначе от второго\n",
        "    if pindex < 0.5:\n",
        "        x = botp1[j]\n",
        "    else:\n",
        "        x = botp2[j]\n",
        "    return x # Возвращаем значние бота"
      ],
      "execution_count": null,
      "outputs": []
    },
    {
      "cell_type": "markdown",
      "metadata": {
        "id": "qa6tpRRr7iRP"
      },
      "source": [
        "#Создаем кластеры точек и рисуем их"
      ]
    },
    {
      "cell_type": "code",
      "metadata": {
        "colab": {
          "base_uri": "https://localhost:8080/",
          "height": 979
        },
        "id": "ShoWx9Aoi5wu",
        "outputId": "6bcb8bec-e1a2-4100-8a6a-0b64ff05d8b0"
      },
      "source": [
        "N = 10  #Всего по N точек каждого клстера точек\n",
        "\n",
        "#Координаты трех областей\n",
        "\n",
        "x1 = np.random.randn(N)+3\n",
        "y1 = np.random.randn(N)+3\n",
        "x2 = np.random.randn(N)-3\n",
        "y2 = np.random.randn(N)+3\n",
        "x3 = np.random.randn(N)\n",
        "y3 = np.random.randn(N)-2\n",
        "x = np.concatenate((x1,x2,x3))\n",
        "y = np.concatenate((y1,y2,y3))\n",
        "metka = np.concatenate((np.ones(N, dtype = 'int32'), np.ones(N, dtype = 'int32')*2, np.ones(N, dtype = 'int32')*3))\n",
        "df = pd.DataFrame({'x':x,'y':y, 'metka':metka})\n",
        "df = df.sample(frac=1) \n",
        "df = df.reset_index().drop('index', axis=1)\n",
        "df['ga'] = np.random.randint(1,4,N*3)\n",
        "df"
      ],
      "execution_count": null,
      "outputs": [
        {
          "output_type": "execute_result",
          "data": {
            "text/html": [
              "<div>\n",
              "<style scoped>\n",
              "    .dataframe tbody tr th:only-of-type {\n",
              "        vertical-align: middle;\n",
              "    }\n",
              "\n",
              "    .dataframe tbody tr th {\n",
              "        vertical-align: top;\n",
              "    }\n",
              "\n",
              "    .dataframe thead th {\n",
              "        text-align: right;\n",
              "    }\n",
              "</style>\n",
              "<table border=\"1\" class=\"dataframe\">\n",
              "  <thead>\n",
              "    <tr style=\"text-align: right;\">\n",
              "      <th></th>\n",
              "      <th>x</th>\n",
              "      <th>y</th>\n",
              "      <th>metka</th>\n",
              "      <th>ga</th>\n",
              "    </tr>\n",
              "  </thead>\n",
              "  <tbody>\n",
              "    <tr>\n",
              "      <th>0</th>\n",
              "      <td>-1.611988</td>\n",
              "      <td>-2.331540</td>\n",
              "      <td>3</td>\n",
              "      <td>3</td>\n",
              "    </tr>\n",
              "    <tr>\n",
              "      <th>1</th>\n",
              "      <td>3.042562</td>\n",
              "      <td>1.703272</td>\n",
              "      <td>1</td>\n",
              "      <td>2</td>\n",
              "    </tr>\n",
              "    <tr>\n",
              "      <th>2</th>\n",
              "      <td>0.433115</td>\n",
              "      <td>-4.186352</td>\n",
              "      <td>3</td>\n",
              "      <td>3</td>\n",
              "    </tr>\n",
              "    <tr>\n",
              "      <th>3</th>\n",
              "      <td>-1.527636</td>\n",
              "      <td>3.551284</td>\n",
              "      <td>2</td>\n",
              "      <td>3</td>\n",
              "    </tr>\n",
              "    <tr>\n",
              "      <th>4</th>\n",
              "      <td>-0.702251</td>\n",
              "      <td>-1.339966</td>\n",
              "      <td>3</td>\n",
              "      <td>2</td>\n",
              "    </tr>\n",
              "    <tr>\n",
              "      <th>5</th>\n",
              "      <td>-4.419702</td>\n",
              "      <td>2.526531</td>\n",
              "      <td>2</td>\n",
              "      <td>3</td>\n",
              "    </tr>\n",
              "    <tr>\n",
              "      <th>6</th>\n",
              "      <td>-2.790088</td>\n",
              "      <td>1.375045</td>\n",
              "      <td>2</td>\n",
              "      <td>2</td>\n",
              "    </tr>\n",
              "    <tr>\n",
              "      <th>7</th>\n",
              "      <td>3.060665</td>\n",
              "      <td>3.270289</td>\n",
              "      <td>1</td>\n",
              "      <td>2</td>\n",
              "    </tr>\n",
              "    <tr>\n",
              "      <th>8</th>\n",
              "      <td>0.408364</td>\n",
              "      <td>-1.283537</td>\n",
              "      <td>3</td>\n",
              "      <td>2</td>\n",
              "    </tr>\n",
              "    <tr>\n",
              "      <th>9</th>\n",
              "      <td>3.901216</td>\n",
              "      <td>2.754928</td>\n",
              "      <td>1</td>\n",
              "      <td>3</td>\n",
              "    </tr>\n",
              "    <tr>\n",
              "      <th>10</th>\n",
              "      <td>-0.794194</td>\n",
              "      <td>-1.044631</td>\n",
              "      <td>3</td>\n",
              "      <td>2</td>\n",
              "    </tr>\n",
              "    <tr>\n",
              "      <th>11</th>\n",
              "      <td>-2.140084</td>\n",
              "      <td>1.517798</td>\n",
              "      <td>2</td>\n",
              "      <td>3</td>\n",
              "    </tr>\n",
              "    <tr>\n",
              "      <th>12</th>\n",
              "      <td>3.031632</td>\n",
              "      <td>3.210815</td>\n",
              "      <td>1</td>\n",
              "      <td>3</td>\n",
              "    </tr>\n",
              "    <tr>\n",
              "      <th>13</th>\n",
              "      <td>-2.598746</td>\n",
              "      <td>3.053909</td>\n",
              "      <td>2</td>\n",
              "      <td>1</td>\n",
              "    </tr>\n",
              "    <tr>\n",
              "      <th>14</th>\n",
              "      <td>-0.576814</td>\n",
              "      <td>-1.916221</td>\n",
              "      <td>3</td>\n",
              "      <td>3</td>\n",
              "    </tr>\n",
              "    <tr>\n",
              "      <th>15</th>\n",
              "      <td>3.485903</td>\n",
              "      <td>2.225571</td>\n",
              "      <td>1</td>\n",
              "      <td>3</td>\n",
              "    </tr>\n",
              "    <tr>\n",
              "      <th>16</th>\n",
              "      <td>-3.572914</td>\n",
              "      <td>1.503230</td>\n",
              "      <td>2</td>\n",
              "      <td>1</td>\n",
              "    </tr>\n",
              "    <tr>\n",
              "      <th>17</th>\n",
              "      <td>3.462429</td>\n",
              "      <td>1.785800</td>\n",
              "      <td>1</td>\n",
              "      <td>2</td>\n",
              "    </tr>\n",
              "    <tr>\n",
              "      <th>18</th>\n",
              "      <td>-3.388831</td>\n",
              "      <td>1.315060</td>\n",
              "      <td>2</td>\n",
              "      <td>2</td>\n",
              "    </tr>\n",
              "    <tr>\n",
              "      <th>19</th>\n",
              "      <td>-0.936976</td>\n",
              "      <td>-0.972840</td>\n",
              "      <td>3</td>\n",
              "      <td>3</td>\n",
              "    </tr>\n",
              "    <tr>\n",
              "      <th>20</th>\n",
              "      <td>3.156793</td>\n",
              "      <td>4.255978</td>\n",
              "      <td>1</td>\n",
              "      <td>1</td>\n",
              "    </tr>\n",
              "    <tr>\n",
              "      <th>21</th>\n",
              "      <td>3.573634</td>\n",
              "      <td>3.408721</td>\n",
              "      <td>1</td>\n",
              "      <td>2</td>\n",
              "    </tr>\n",
              "    <tr>\n",
              "      <th>22</th>\n",
              "      <td>2.955317</td>\n",
              "      <td>1.627984</td>\n",
              "      <td>1</td>\n",
              "      <td>2</td>\n",
              "    </tr>\n",
              "    <tr>\n",
              "      <th>23</th>\n",
              "      <td>-0.268356</td>\n",
              "      <td>-2.190200</td>\n",
              "      <td>3</td>\n",
              "      <td>1</td>\n",
              "    </tr>\n",
              "    <tr>\n",
              "      <th>24</th>\n",
              "      <td>2.105248</td>\n",
              "      <td>-2.174744</td>\n",
              "      <td>3</td>\n",
              "      <td>2</td>\n",
              "    </tr>\n",
              "    <tr>\n",
              "      <th>25</th>\n",
              "      <td>-2.894928</td>\n",
              "      <td>2.466745</td>\n",
              "      <td>2</td>\n",
              "      <td>3</td>\n",
              "    </tr>\n",
              "    <tr>\n",
              "      <th>26</th>\n",
              "      <td>-1.120174</td>\n",
              "      <td>0.830057</td>\n",
              "      <td>2</td>\n",
              "      <td>3</td>\n",
              "    </tr>\n",
              "    <tr>\n",
              "      <th>27</th>\n",
              "      <td>-0.514791</td>\n",
              "      <td>-2.745758</td>\n",
              "      <td>3</td>\n",
              "      <td>3</td>\n",
              "    </tr>\n",
              "    <tr>\n",
              "      <th>28</th>\n",
              "      <td>-3.381500</td>\n",
              "      <td>3.501494</td>\n",
              "      <td>2</td>\n",
              "      <td>1</td>\n",
              "    </tr>\n",
              "    <tr>\n",
              "      <th>29</th>\n",
              "      <td>3.940569</td>\n",
              "      <td>5.697024</td>\n",
              "      <td>1</td>\n",
              "      <td>1</td>\n",
              "    </tr>\n",
              "  </tbody>\n",
              "</table>\n",
              "</div>"
            ],
            "text/plain": [
              "           x         y  metka  ga\n",
              "0  -1.611988 -2.331540      3   3\n",
              "1   3.042562  1.703272      1   2\n",
              "2   0.433115 -4.186352      3   3\n",
              "3  -1.527636  3.551284      2   3\n",
              "4  -0.702251 -1.339966      3   2\n",
              "5  -4.419702  2.526531      2   3\n",
              "6  -2.790088  1.375045      2   2\n",
              "7   3.060665  3.270289      1   2\n",
              "8   0.408364 -1.283537      3   2\n",
              "9   3.901216  2.754928      1   3\n",
              "10 -0.794194 -1.044631      3   2\n",
              "11 -2.140084  1.517798      2   3\n",
              "12  3.031632  3.210815      1   3\n",
              "13 -2.598746  3.053909      2   1\n",
              "14 -0.576814 -1.916221      3   3\n",
              "15  3.485903  2.225571      1   3\n",
              "16 -3.572914  1.503230      2   1\n",
              "17  3.462429  1.785800      1   2\n",
              "18 -3.388831  1.315060      2   2\n",
              "19 -0.936976 -0.972840      3   3\n",
              "20  3.156793  4.255978      1   1\n",
              "21  3.573634  3.408721      1   2\n",
              "22  2.955317  1.627984      1   2\n",
              "23 -0.268356 -2.190200      3   1\n",
              "24  2.105248 -2.174744      3   2\n",
              "25 -2.894928  2.466745      2   3\n",
              "26 -1.120174  0.830057      2   3\n",
              "27 -0.514791 -2.745758      3   3\n",
              "28 -3.381500  3.501494      2   1\n",
              "29  3.940569  5.697024      1   1"
            ]
          },
          "metadata": {
            "tags": []
          },
          "execution_count": 27
        }
      ]
    },
    {
      "cell_type": "code",
      "metadata": {
        "colab": {
          "base_uri": "https://localhost:8080/",
          "height": 628
        },
        "id": "00IQ32Wpi550",
        "outputId": "bb623814-d05e-44b0-ec27-2fdb5249ad1e"
      },
      "source": [
        "plt.figure(figsize = (10,10))\n",
        "plt.scatter(df.x, df.y, c=df.metka, cmap = 'viridis')\n",
        "#plt.legend()\n",
        "plt.title('Исходные точки', size=15)\n",
        "plt.xlabel('x', size=15)\n",
        "plt.ylabel('y', size=15)\n",
        "plt.show()"
      ],
      "execution_count": null,
      "outputs": [
        {
          "output_type": "display_data",
          "data": {
            "image/png": "[encoded data removed]",
            "text/plain": [
              "<Figure size 720x720 with 1 Axes>"
            ]
          },
          "metadata": {
            "tags": [],
            "needs_background": "light"
          }
        }
      ]
    },
    {
      "cell_type": "code",
      "metadata": {
        "colab": {
          "base_uri": "https://localhost:8080/",
          "height": 630
        },
        "id": "0pssnFd1wTHD",
        "outputId": "c0924d73-9f77-4a9c-9e00-f2e30ec02317"
      },
      "source": [
        "plt.figure(figsize = (10,10))\n",
        "plt.scatter(df.x, df.y, c=df.ga, cmap = 'viridis')\n",
        "#plt.legend()\n",
        "plt.title('Рандомная первоначальная разбивка точек на метки', size=15)\n",
        "plt.xlabel('x', size=15)\n",
        "plt.ylabel('y', size=15)\n",
        "plt.show()"
      ],
      "execution_count": null,
      "outputs": [
        {
          "output_type": "display_data",
          "data": {
            "image/png": "[encoded data removed]",
            "text/plain": [
              "<Figure size 720x720 with 1 Axes>"
            ]
          },
          "metadata": {
            "tags": [],
            "needs_background": "light"
          }
        }
      ]
    },
    {
      "cell_type": "markdown",
      "metadata": {
        "id": "CbDZxD4jtsRo"
      },
      "source": [
        "#Расчет генетического алгоритма"
      ]
    },
    {
      "cell_type": "code",
      "metadata": {
        "id": "IhaqzZqNtzUx"
      },
      "source": [
        "#Функция для вычисления суммы расстояний каждого класса в дата фрейме. Эту функцию будем минимизировать\n",
        "def dist(df1):\n",
        "    \n",
        "    S = 0\n",
        "    for k in [1,2,3]:\n",
        "      temp = df1[df1.ga==k]\n",
        "      \n",
        "      rasst = 0\n",
        "      for i in range(temp.shape[0]-1):\n",
        "          for j in range(i+1,temp.shape[0]-1):\n",
        "              \n",
        "              rasst = rasst + ((temp.iloc[i,:][0] - temp.iloc[j,:][0])**2 + (temp.iloc[i,:][1] - temp.iloc[j,:][1])**2)**0.5\n",
        "      S = S + rasst/temp.shape[0]   #Суммарная ошибка, нормированная на каждую точку множества\n",
        "    return S\n"
      ],
      "execution_count": null,
      "outputs": []
    },
    {
      "cell_type": "code",
      "metadata": {
        "id": "swsAQMRh9U0x"
      },
      "source": [
        "#функция мутации с вероятностью mut изменяет элемент:\n",
        "def mut_fun(x,mut):\n",
        "    if random.random()<=mut:\n",
        "        x = np.random.randint(1,4,1)[0]\n",
        "    return x\n"
      ],
      "execution_count": null,
      "outputs": []
    },
    {
      "cell_type": "code",
      "metadata": {
        "colab": {
          "base_uri": "https://localhost:8080/"
        },
        "id": "6jfkOIQh7ZYk",
        "outputId": "bcf6e018-3179-4197-8e9d-ffa774f4ad53"
      },
      "source": [
        "res=[]\n",
        "n = 80 # Размер популяции\n",
        "nsurv = int(n/5) # Количество выживших (столько лучших переходит в новую популяцию)\n",
        "nnew = n - nsurv # Количество новых (столько новых ботов создается)\n",
        "l = N*3 # Длина бота\n",
        "epohs = 120 # Количество эпох\n",
        "\n",
        "mut = 0.25 # Коэфициент мутаций\n",
        "\n",
        "popul = []\n",
        "val = [] \n",
        "\n",
        "for i in range(n): \n",
        "    popul.append(np.random.randint(1,4,N*3)) \n",
        "    \n",
        "\n",
        "for it in range(epohs): # Пробегаемся по всем эпохам\n",
        "    val = [] # Создаем пустой список для значений ботов\n",
        "\n",
        "    for i in range(n): # Проходим по всей длине популяции\n",
        "        bot = popul[i] # Берем очередного бота\n",
        "        df['ga'] = bot\n",
        "    \n",
        "        f = dist(df)\n",
        "        val.append(abs(f))   # в этой задаче будем искать 0 функции\n",
        "                         \n",
        "    \n",
        "    newpopul, sval = getSurvPopul(popul, val, nsurv, 0) # Получаем новую популяцию и сортированный список значнией\n",
        "    res.append(sval[0])\n",
        "    print(it, \" \", [round(s,8) for s in sval[0:5]]) # Выводим 5 лучших ботов\n",
        "    \n",
        "\n",
        "    for i in range(nnew): # Проходимся в цикле nnew-раз \n",
        "        botp1, botp2 = getParents(newpopul, nsurv) # Из newpopul(новой популяции) получаем двух случайных родителей-ботов\n",
        "        newbot = [] # Массив для нового бота\n",
        "        # проходимся по длине бота и осуществляем смешивание/скрещивание от родителей\n",
        "        for j in range(l): # Проходим по всей длине бота\n",
        "            x = crossPointFrom2Parents(botp1, botp2, j) # Получаем значение для j-ого компонента бота\n",
        "            x  = mut_fun(x,mut)\n",
        "            newbot.append(x) # Добавялем новое значение в бота      \n",
        "        newpopul.append(newbot) # Добавляем бота в новую популяцию \n",
        "        #(таким образом к nsurv-лучших ботов предыдующей популяции добавится nnew-новых ботов)\n",
        "    \n",
        "    popul = newpopul # Записываем в popul посчитанную новую популяцию\n"
      ],
      "execution_count": null,
      "outputs": [
        {
          "output_type": "stream",
          "text": [
            "0   [44.37086777, 44.49592221, 45.13839243, 45.26608939, 45.28543302]\n",
            "1   [39.8976769, 41.27428375, 42.03941124, 42.24237228, 43.21930397]\n",
            "2   [38.34830145, 39.34198143, 39.37452798, 39.8976769, 41.27428375]\n",
            "3   [36.00766391, 36.31864683, 36.35823342, 38.34830145, 39.03846154]\n",
            "4   [36.00766391, 36.31864683, 36.35823342, 37.26465879, 37.7465933]\n",
            "5   [35.52768427, 35.89300201, 36.00766391, 36.31864683, 36.35823342]\n",
            "6   [31.69106158, 35.52768427, 35.75632678, 35.89300201, 36.00766391]\n",
            "7   [31.20106112, 31.69106158, 34.39627006, 35.52768427, 35.67535506]\n",
            "8   [31.20106112, 31.69106158, 34.39627006, 35.47323128, 35.52768427]\n",
            "9   [31.20106112, 31.69106158, 32.36014004, 32.45850804, 34.26373164]\n",
            "10   [29.31358368, 29.75896867, 31.20106112, 31.69106158, 32.36014004]\n",
            "11   [29.31358368, 29.75896867, 30.56351333, 30.70711406, 31.20106112]\n",
            "12   [29.31358368, 29.75896867, 30.56351333, 30.70711406, 31.20106112]\n",
            "13   [28.69370584, 29.31358368, 29.41007964, 29.55987586, 29.75896867]\n",
            "14   [28.69370584, 29.31358368, 29.41007964, 29.55987586, 29.75896867]\n",
            "15   [25.00654862, 28.10333012, 28.69370584, 29.31358368, 29.41007964]\n",
            "16   [25.00654862, 28.10333012, 28.69370584, 29.08791547, 29.31358368]\n",
            "17   [22.66386278, 25.00654862, 28.10333012, 28.69370584, 29.08791547]\n",
            "18   [22.66386278, 25.00654862, 26.47481391, 27.63945155, 28.10333012]\n",
            "19   [22.66386278, 25.00654862, 25.54962262, 26.47481391, 27.63945155]\n",
            "20   [22.64874268, 22.66386278, 25.00654862, 25.27177628, 25.54962262]\n",
            "21   [22.64874268, 22.66386278, 25.00654862, 25.27177628, 25.54962262]\n",
            "22   [22.64874268, 22.66386278, 24.26941884, 25.00654862, 25.27177628]\n",
            "23   [22.56223566, 22.64874268, 22.66386278, 24.26941884, 25.00654862]\n",
            "24   [22.56223566, 22.64874268, 22.66386278, 24.26941884, 25.00654862]\n",
            "25   [22.56223566, 22.64874268, 22.66386278, 24.26941884, 24.67295923]\n",
            "26   [22.56223566, 22.64874268, 22.66386278, 24.26941884, 24.67295923]\n",
            "27   [22.56223566, 22.64874268, 22.66386278, 23.19824803, 24.26941884]\n",
            "28   [22.56223566, 22.64874268, 22.66386278, 23.0393236, 23.1216535]\n",
            "29   [20.23066509, 22.56223566, 22.64874268, 22.66386278, 23.0393236]\n",
            "30   [20.23066509, 20.25223791, 22.56223566, 22.64874268, 22.66386278]\n",
            "31   [20.23066509, 20.25223791, 22.56223566, 22.64874268, 22.66386278]\n",
            "32   [20.23066509, 20.25223791, 22.56223566, 22.64874268, 22.66386278]\n",
            "33   [20.23066509, 20.25223791, 22.56223566, 22.64874268, 22.66386278]\n",
            "34   [19.88150004, 20.23066509, 20.25223791, 22.56223566, 22.64874268]\n",
            "35   [17.47118969, 19.88150004, 20.23066509, 20.25223791, 21.70713807]\n",
            "36   [17.47118969, 19.88150004, 20.04576508, 20.23066509, 20.25223791]\n",
            "37   [17.47118969, 19.88150004, 20.04576508, 20.23066509, 20.25223791]\n",
            "38   [17.47118969, 19.88150004, 20.04576508, 20.23066509, 20.25223791]\n",
            "39   [17.47118969, 19.88150004, 20.04576508, 20.23066509, 20.25223791]\n",
            "40   [17.47118969, 18.98480566, 19.88150004, 20.04576508, 20.23066509]\n",
            "41   [17.47118969, 18.98480566, 19.88150004, 20.04576508, 20.23066509]\n",
            "42   [17.47118969, 18.98480566, 19.88150004, 20.04576508, 20.23066509]\n",
            "43   [17.47118969, 18.98480566, 19.88150004, 20.04576508, 20.23066509]\n",
            "44   [17.47118969, 18.98480566, 19.88150004, 20.04576508, 20.23066509]\n",
            "45   [17.47118969, 18.98480566, 19.88150004, 20.04576508, 20.23066509]\n",
            "46   [17.47118969, 17.47118969, 18.98480566, 19.88150004, 20.04576508]\n",
            "47   [17.47118969, 17.47118969, 18.98480566, 19.88150004, 20.04576508]\n",
            "48   [17.47118969, 17.47118969, 18.98480566, 19.88150004, 20.03003762]\n",
            "49   [17.47118969, 17.47118969, 18.98480566, 19.60935785, 19.88150004]\n",
            "50   [17.47118969, 17.47118969, 17.54985728, 18.98480566, 19.19576454]\n",
            "51   [17.47118969, 17.47118969, 17.54985728, 18.98480566, 19.19576454]\n",
            "52   [17.47118969, 17.47118969, 17.54985728, 18.98480566, 19.19576454]\n",
            "53   [17.47118969, 17.47118969, 17.54985728, 18.98480566, 19.19576454]\n",
            "54   [17.47118969, 17.47118969, 17.54985728, 18.98480566, 19.19576454]\n",
            "55   [17.47118969, 17.47118969, 17.54985728, 18.98480566, 19.19576454]\n",
            "56   [17.47118969, 17.47118969, 17.54985728, 18.98480566, 19.19576454]\n",
            "57   [17.47118969, 17.47118969, 17.54985728, 18.98480566, 19.19576454]\n",
            "58   [17.47118969, 17.47118969, 17.54985728, 18.98480566, 19.13576044]\n",
            "59   [17.47118969, 17.47118969, 17.54985728, 18.98480566, 19.13576044]\n",
            "60   [17.47118969, 17.47118969, 17.54985728, 17.78550719, 18.98480566]\n",
            "61   [17.47118969, 17.47118969, 17.54985728, 17.78550719, 18.98480566]\n",
            "62   [17.47118969, 17.47118969, 17.54985728, 17.78550719, 18.98480566]\n",
            "63   [17.47118969, 17.47118969, 17.54985728, 17.78550719, 18.98480566]\n",
            "64   [17.47118969, 17.47118969, 17.54985728, 17.78550719, 18.98480566]\n",
            "65   [17.47118969, 17.47118969, 17.54985728, 17.78550719, 18.98480566]\n",
            "66   [17.47118969, 17.47118969, 17.54985728, 17.78550719, 18.98480566]\n",
            "67   [17.47118969, 17.47118969, 17.54985728, 17.78550719, 18.8174956]\n",
            "68   [17.47118969, 17.47118969, 17.54985728, 17.78550719, 18.8174956]\n",
            "69   [17.47118969, 17.47118969, 17.54985728, 17.78550719, 18.8174956]\n",
            "70   [17.47118969, 17.47118969, 17.54985728, 17.78550719, 18.8174956]\n",
            "71   [17.47118969, 17.47118969, 17.54985728, 17.78550719, 18.8174956]\n",
            "72   [17.47118969, 17.47118969, 17.54985728, 17.78550719, 18.8174956]\n",
            "73   [17.47118969, 17.47118969, 17.54985728, 17.78550719, 18.8174956]\n",
            "74   [17.47118969, 17.47118969, 17.54985728, 17.78550719, 18.8174956]\n",
            "75   [17.47118969, 17.47118969, 17.54985728, 17.78550719, 18.8174956]\n",
            "76   [17.47118969, 17.47118969, 17.54985728, 17.78550719, 18.8174956]\n",
            "77   [17.47118969, 17.47118969, 17.54985728, 17.78550719, 18.8174956]\n",
            "78   [17.29236971, 17.47118969, 17.47118969, 17.54985728, 17.78550719]\n",
            "79   [17.29236971, 17.47118969, 17.47118969, 17.54985728, 17.78550719]\n",
            "80   [17.29236971, 17.47118969, 17.47118969, 17.54985728, 17.78550719]\n",
            "81   [17.29236971, 17.47118969, 17.47118969, 17.54985728, 17.78550719]\n",
            "82   [17.29236971, 17.47118969, 17.47118969, 17.54985728, 17.78550719]\n",
            "83   [17.29236971, 17.47118969, 17.47118969, 17.54985728, 17.78550719]\n",
            "84   [17.29236971, 17.47118969, 17.47118969, 17.54985728, 17.78550719]\n",
            "85   [17.29236971, 17.47118969, 17.47118969, 17.54985728, 17.78550719]\n",
            "86   [17.29236971, 17.47118969, 17.47118969, 17.54985728, 17.78550719]\n",
            "87   [17.29236971, 17.47118969, 17.47118969, 17.54985728, 17.78550719]\n",
            "88   [17.29236971, 17.47118969, 17.47118969, 17.54985728, 17.78550719]\n",
            "89   [17.29236971, 17.47118969, 17.47118969, 17.54985728, 17.78550719]\n",
            "90   [17.29236971, 17.47118969, 17.47118969, 17.54985728, 17.78550719]\n",
            "91   [17.29236971, 17.47118969, 17.47118969, 17.54985728, 17.78550719]\n",
            "92   [17.29236971, 17.47118969, 17.47118969, 17.54985728, 17.78550719]\n",
            "93   [17.29236971, 17.47118969, 17.47118969, 17.54985728, 17.78550719]\n",
            "94   [17.29236971, 17.47118969, 17.47118969, 17.54985728, 17.78550719]\n",
            "95   [17.29236971, 17.47118969, 17.47118969, 17.54985728, 17.78550719]\n",
            "96   [17.29236971, 17.47118969, 17.47118969, 17.54985728, 17.78550719]\n",
            "97   [17.29236971, 17.47118969, 17.47118969, 17.54985728, 17.78550719]\n",
            "98   [17.29236971, 17.47118969, 17.47118969, 17.54985728, 17.78550719]\n",
            "99   [17.29236971, 17.47118969, 17.47118969, 17.54985728, 17.78550719]\n",
            "100   [17.29236971, 17.47118969, 17.47118969, 17.54985728, 17.78550719]\n",
            "101   [17.29236971, 17.47118969, 17.47118969, 17.54985728, 17.78550719]\n",
            "102   [17.29236971, 17.47118969, 17.47118969, 17.54985728, 17.78550719]\n",
            "103   [17.29236971, 17.47118969, 17.47118969, 17.54985728, 17.78550719]\n",
            "104   [17.29236971, 17.47118969, 17.47118969, 17.54985728, 17.78550719]\n",
            "105   [17.29236971, 17.47118969, 17.47118969, 17.54985728, 17.78550719]\n",
            "106   [17.29236971, 17.47118969, 17.47118969, 17.54985728, 17.78550719]\n",
            "107   [17.29236971, 17.47118969, 17.47118969, 17.54985728, 17.78550719]\n",
            "108   [17.29236971, 17.47118969, 17.47118969, 17.54985728, 17.78550719]\n",
            "109   [17.29236971, 17.47118969, 17.47118969, 17.54985728, 17.78550719]\n",
            "110   [17.29236971, 17.47118969, 17.47118969, 17.54985728, 17.78550719]\n",
            "111   [17.29236971, 17.47118969, 17.47118969, 17.54985728, 17.78550719]\n",
            "112   [17.29236971, 17.47118969, 17.47118969, 17.54985728, 17.78550719]\n",
            "113   [17.29236971, 17.47118969, 17.47118969, 17.54985728, 17.78550719]\n",
            "114   [17.29236971, 17.47118969, 17.47118969, 17.54985728, 17.78550719]\n",
            "115   [17.29236971, 17.47118969, 17.47118969, 17.54985728, 17.78550719]\n",
            "116   [17.29236971, 17.47118969, 17.47118969, 17.54985728, 17.78550719]\n",
            "117   [16.54752819, 17.29236971, 17.47118969, 17.47118969, 17.54985728]\n",
            "118   [16.54752819, 17.29236971, 17.47118969, 17.47118969, 17.54985728]\n",
            "119   [16.54752819, 17.29236971, 17.47118969, 17.47118969, 17.54985728]\n"
          ],
          "name": "stdout"
        }
      ]
    },
    {
      "cell_type": "code",
      "metadata": {
        "colab": {
          "base_uri": "https://localhost:8080/",
          "height": 622
        },
        "id": "MT4zpPga7a68",
        "outputId": "9f14b7a0-764a-4f10-bd3e-a1e782282c64"
      },
      "source": [
        "plt.figure(figsize=(20,10))\n",
        "plt.plot(res)\n",
        "plt.title('График оптимизации функции ошибки')\n",
        "plt.xlabel('Эпохи')\n",
        "plt.ylabel('Ошибка (значение функции)')\n",
        "plt.show()"
      ],
      "execution_count": null,
      "outputs": [
        {
          "output_type": "display_data",
          "data": {
            "image/png": "[encoded data removed]",
            "text/plain": [
              "<Figure size 1440x720 with 1 Axes>"
            ]
          },
          "metadata": {
            "tags": [],
            "needs_background": "light"
          }
        }
      ]
    },
    {
      "cell_type": "code",
      "metadata": {
        "id": "1jptnWjpAHvO"
      },
      "source": [
        "bestbot = popul[0]\n",
        "df['ga'] = bestbot"
      ],
      "execution_count": null,
      "outputs": []
    },
    {
      "cell_type": "code",
      "metadata": {
        "colab": {
          "base_uri": "https://localhost:8080/",
          "height": 630
        },
        "id": "DObG6m5VAGOG",
        "outputId": "8208024e-f2c3-4694-8267-1633fdd9d322"
      },
      "source": [
        "plt.figure(figsize = (10,10))\n",
        "plt.scatter(df.x, df.y, c=df.ga, cmap = 'viridis')\n",
        "#plt.legend()\n",
        "plt.title('Результат работы ГА', size=15)\n",
        "plt.xlabel('x', size=15)\n",
        "plt.ylabel('y', size=15)\n",
        "plt.show()"
      ],
      "execution_count": null,
      "outputs": [
        {
          "output_type": "display_data",
          "data": {
            "image/png": "[encoded data removed]",
            "text/plain": [
              "<Figure size 720x720 with 1 Axes>"
            ]
          },
          "metadata": {
            "tags": [],
            "needs_background": "light"
          }
        }
      ]
    },
    {
      "cell_type": "markdown",
      "metadata": {
        "id": "IQ34afi9Briz"
      },
      "source": [
        "#Вывод. Взял 3 кластера по 10 точек. Написал функцию ошибки как сумма расстояний внутри каждого кластера и потом суммировал их для всех трех кластеров. Мутацию сделал просто рандомной, посколкьу у нас не может быть промежуточнеых зхначений, а всего 3 1,2,3. "
      ]
    }
  ]
}